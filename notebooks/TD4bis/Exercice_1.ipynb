{
  "nbformat": 4,
  "nbformat_minor": 0,
  "metadata": {
    "colab": {
      "provenance": [],
      "collapsed_sections": [
        "mOkQKJyFxWxa"
      ],
      "authorship_tag": "ABX9TyNjbUOLOeXoNNx22Q8ype2V",
      "include_colab_link": true
    },
    "kernelspec": {
      "name": "python3",
      "display_name": "Python 3"
    },
    "language_info": {
      "name": "python"
    }
  },
  "cells": [
    {
      "cell_type": "markdown",
      "metadata": {
        "id": "view-in-github",
        "colab_type": "text"
      },
      "source": [
        "<a href=\"https://colab.research.google.com/github/GaetanAm/Master-1-Machine-Learning/blob/main/notebooks/TD4bis/Exercice_1.ipynb\" target=\"_parent\"><img src=\"https://colab.research.google.com/assets/colab-badge.svg\" alt=\"Open In Colab\"/></a>"
      ]
    },
    {
      "cell_type": "markdown",
      "source": [
        "# EXO 1"
      ],
      "metadata": {
        "id": "w0DDxeWPwWdG"
      }
    },
    {
      "cell_type": "markdown",
      "source": [
        "## Data Set IRIS"
      ],
      "metadata": {
        "id": "mOkQKJyFxWxa"
      }
    },
    {
      "cell_type": "code",
      "execution_count": 1,
      "metadata": {
        "colab": {
          "base_uri": "https://localhost:8080/"
        },
        "id": "DE1ak-tSu6Nt",
        "outputId": "813fa794-ba1b-4062-a4aa-05cc29470fca"
      },
      "outputs": [
        {
          "output_type": "stream",
          "name": "stdout",
          "text": [
            "   sepal length (cm)  sepal width (cm)  petal length (cm)  petal width (cm)  \\\n",
            "0                5.1               3.5                1.4               0.2   \n",
            "1                4.9               3.0                1.4               0.2   \n",
            "2                4.7               3.2                1.3               0.2   \n",
            "3                4.6               3.1                1.5               0.2   \n",
            "4                5.0               3.6                1.4               0.2   \n",
            "\n",
            "   target  \n",
            "0       0  \n",
            "1       0  \n",
            "2       0  \n",
            "3       0  \n",
            "4       0  \n"
          ]
        }
      ],
      "source": [
        "from sklearn.datasets import load_iris\n",
        "import pandas as pd\n",
        "\n",
        "# Charger le dataset\n",
        "iris = load_iris()\n",
        "data = pd.DataFrame(iris.data, columns=iris.feature_names)\n",
        "data['target'] = iris.target\n",
        "\n",
        "# Afficher les premières lignes\n",
        "print(data.head())\n"
      ]
    },
    {
      "cell_type": "code",
      "source": [
        "from sklearn.model_selection import train_test_split\n",
        "\n",
        "# Variables indépendantes et dépendantes\n",
        "X = data.iloc[:, :-1]\n",
        "y = data['target']\n",
        "\n",
        "# Diviser les données\n",
        "X_train, X_test, y_train, y_test = train_test_split(X, y, test_size=0.2, random_state=42)\n",
        "\n",
        "print(f\"Entraînement: {X_train.shape}, Test: {X_test.shape}\")\n"
      ],
      "metadata": {
        "colab": {
          "base_uri": "https://localhost:8080/"
        },
        "id": "C_0UVHlCvxMg",
        "outputId": "bad3d7fe-c4d1-4d4f-f0a9-ce0f5febb158"
      },
      "execution_count": 2,
      "outputs": [
        {
          "output_type": "stream",
          "name": "stdout",
          "text": [
            "Entraînement: (120, 4), Test: (30, 4)\n"
          ]
        }
      ]
    },
    {
      "cell_type": "code",
      "source": [
        "from sklearn.linear_model import LogisticRegression\n",
        "from sklearn.metrics import classification_report\n",
        "\n",
        "# Initialiser le modèle de régression logistique\n",
        "logistic_model = LogisticRegression(max_iter=200, random_state=42)\n",
        "\n",
        "# Entraîner le modèle sur les données d'entraînement\n",
        "logistic_model.fit(X_train, y_train)\n",
        "\n",
        "# Prédire sur les données de test\n",
        "y_pred = logistic_model.predict(X_test)\n",
        "\n",
        "# Évaluer les performances\n",
        "print(\"Rapport de classification :\")\n",
        "print(classification_report(y_test, y_pred, target_names=iris.target_names))\n"
      ],
      "metadata": {
        "colab": {
          "base_uri": "https://localhost:8080/"
        },
        "id": "fkIqUISGwoX9",
        "outputId": "a1b089ad-a654-4000-eaeb-47ed6f9aa5d0"
      },
      "execution_count": 4,
      "outputs": [
        {
          "output_type": "stream",
          "name": "stdout",
          "text": [
            "Rapport de classification :\n",
            "              precision    recall  f1-score   support\n",
            "\n",
            "      setosa       1.00      1.00      1.00        10\n",
            "  versicolor       1.00      1.00      1.00         9\n",
            "   virginica       1.00      1.00      1.00        11\n",
            "\n",
            "    accuracy                           1.00        30\n",
            "   macro avg       1.00      1.00      1.00        30\n",
            "weighted avg       1.00      1.00      1.00        30\n",
            "\n"
          ]
        }
      ]
    },
    {
      "cell_type": "code",
      "source": [
        "from sklearn.decomposition import PCA\n",
        "from sklearn.preprocessing import StandardScaler\n",
        "\n",
        "# Standardiser les données\n",
        "scaler = StandardScaler()\n",
        "X_train_scaled = scaler.fit_transform(X_train)\n",
        "X_test_scaled = scaler.transform(X_test)\n",
        "\n",
        "# Appliquer PCA avec 2 composantes\n",
        "pca = PCA(n_components=2)\n",
        "X_train_pca = pca.fit_transform(X_train_scaled)\n",
        "X_test_pca = pca.transform(X_test_scaled)\n",
        "\n",
        "# Entraîner le modèle sur les données PCA\n",
        "logistic_model_pca = LogisticRegression(max_iter=200, random_state=42)\n",
        "logistic_model_pca.fit(X_train_pca, y_train)\n",
        "\n",
        "# Prédire sur les données de test PCA\n",
        "y_pred_pca = logistic_model_pca.predict(X_test_pca)\n",
        "\n",
        "# Évaluer les performances\n",
        "print(\"Rapport de classification après PCA :\")\n",
        "print(classification_report(y_test, y_pred_pca, target_names=iris.target_names))"
      ],
      "metadata": {
        "colab": {
          "base_uri": "https://localhost:8080/"
        },
        "id": "FVkUHODqxCwp",
        "outputId": "b3f2188a-69eb-4e83-be3d-7e1408fd17bd"
      },
      "execution_count": 5,
      "outputs": [
        {
          "output_type": "stream",
          "name": "stdout",
          "text": [
            "Rapport de classification après PCA :\n",
            "              precision    recall  f1-score   support\n",
            "\n",
            "      setosa       1.00      1.00      1.00        10\n",
            "  versicolor       0.88      0.78      0.82         9\n",
            "   virginica       0.83      0.91      0.87        11\n",
            "\n",
            "    accuracy                           0.90        30\n",
            "   macro avg       0.90      0.90      0.90        30\n",
            "weighted avg       0.90      0.90      0.90        30\n",
            "\n"
          ]
        }
      ]
    },
    {
      "cell_type": "markdown",
      "source": [
        "## Data Set WINE"
      ],
      "metadata": {
        "id": "86BogiM1xbv0"
      }
    },
    {
      "cell_type": "code",
      "source": [
        "from sklearn.datasets import load_wine\n",
        "\n",
        "# Charger le dataset Wine\n",
        "wine = load_wine()\n",
        "data_wine = pd.DataFrame(wine.data, columns=wine.feature_names)\n",
        "data_wine['target'] = wine.target\n",
        "\n",
        "# Afficher les premières lignes\n",
        "print(data_wine.head())\n",
        "print(f\"Dimensions des données : {data_wine.shape}\")"
      ],
      "metadata": {
        "colab": {
          "base_uri": "https://localhost:8080/"
        },
        "id": "EPOvTLoTxOGi",
        "outputId": "9f026ed2-e4a9-4dd0-a8ce-8ccd716ff651"
      },
      "execution_count": 6,
      "outputs": [
        {
          "output_type": "stream",
          "name": "stdout",
          "text": [
            "   alcohol  malic_acid   ash  alcalinity_of_ash  magnesium  total_phenols  \\\n",
            "0    14.23        1.71  2.43               15.6      127.0           2.80   \n",
            "1    13.20        1.78  2.14               11.2      100.0           2.65   \n",
            "2    13.16        2.36  2.67               18.6      101.0           2.80   \n",
            "3    14.37        1.95  2.50               16.8      113.0           3.85   \n",
            "4    13.24        2.59  2.87               21.0      118.0           2.80   \n",
            "\n",
            "   flavanoids  nonflavanoid_phenols  proanthocyanins  color_intensity   hue  \\\n",
            "0        3.06                  0.28             2.29             5.64  1.04   \n",
            "1        2.76                  0.26             1.28             4.38  1.05   \n",
            "2        3.24                  0.30             2.81             5.68  1.03   \n",
            "3        3.49                  0.24             2.18             7.80  0.86   \n",
            "4        2.69                  0.39             1.82             4.32  1.04   \n",
            "\n",
            "   od280/od315_of_diluted_wines  proline  target  \n",
            "0                          3.92   1065.0       0  \n",
            "1                          3.40   1050.0       0  \n",
            "2                          3.17   1185.0       0  \n",
            "3                          3.45   1480.0       0  \n",
            "4                          2.93    735.0       0  \n",
            "Dimensions des données : (178, 14)\n"
          ]
        }
      ]
    },
    {
      "cell_type": "code",
      "source": [
        "# Variables indépendantes et dépendantes\n",
        "X_wine = data_wine.iloc[:, :-1]\n",
        "y_wine = data_wine['target']\n",
        "\n",
        "# Diviser les données\n",
        "X_train_wine, X_test_wine, y_train_wine, y_test_wine = train_test_split(\n",
        "    X_wine, y_wine, test_size=0.2, random_state=42\n",
        ")\n",
        "\n",
        "print(f\"Entraînement: {X_train_wine.shape}, Test: {X_test_wine.shape}\")"
      ],
      "metadata": {
        "colab": {
          "base_uri": "https://localhost:8080/"
        },
        "id": "adBL0WjTxh-D",
        "outputId": "899f468b-9e11-47fb-884a-fea0d62661c1"
      },
      "execution_count": 7,
      "outputs": [
        {
          "output_type": "stream",
          "name": "stdout",
          "text": [
            "Entraînement: (142, 13), Test: (36, 13)\n"
          ]
        }
      ]
    },
    {
      "cell_type": "code",
      "source": [
        "# Modèle sans PCA\n",
        "logistic_model_wine = LogisticRegression(max_iter=200, random_state=42)\n",
        "logistic_model_wine.fit(X_train_wine, y_train_wine)\n",
        "\n",
        "# Prédictions\n",
        "y_pred_wine = logistic_model_wine.predict(X_test_wine)\n",
        "\n",
        "# Évaluation\n",
        "print(\"Rapport de classification (sans PCA) :\")\n",
        "print(classification_report(y_test_wine, y_pred_wine, target_names=wine.target_names))\n"
      ],
      "metadata": {
        "colab": {
          "base_uri": "https://localhost:8080/"
        },
        "id": "vFTefIu7xjbW",
        "outputId": "54b0cf00-61cf-4a0b-8812-5d807aae1152"
      },
      "execution_count": 8,
      "outputs": [
        {
          "output_type": "stream",
          "name": "stdout",
          "text": [
            "Rapport de classification (sans PCA) :\n",
            "              precision    recall  f1-score   support\n",
            "\n",
            "     class_0       1.00      0.93      0.96        14\n",
            "     class_1       0.93      1.00      0.97        14\n",
            "     class_2       1.00      1.00      1.00         8\n",
            "\n",
            "    accuracy                           0.97        36\n",
            "   macro avg       0.98      0.98      0.98        36\n",
            "weighted avg       0.97      0.97      0.97        36\n",
            "\n"
          ]
        },
        {
          "output_type": "stream",
          "name": "stderr",
          "text": [
            "/usr/local/lib/python3.10/dist-packages/sklearn/linear_model/_logistic.py:469: ConvergenceWarning: lbfgs failed to converge (status=1):\n",
            "STOP: TOTAL NO. of ITERATIONS REACHED LIMIT.\n",
            "\n",
            "Increase the number of iterations (max_iter) or scale the data as shown in:\n",
            "    https://scikit-learn.org/stable/modules/preprocessing.html\n",
            "Please also refer to the documentation for alternative solver options:\n",
            "    https://scikit-learn.org/stable/modules/linear_model.html#logistic-regression\n",
            "  n_iter_i = _check_optimize_result(\n"
          ]
        }
      ]
    },
    {
      "cell_type": "code",
      "source": [
        "# Standardisation des données\n",
        "X_train_wine_scaled = scaler.fit_transform(X_train_wine)\n",
        "X_test_wine_scaled = scaler.transform(X_test_wine)\n",
        "\n",
        "# PCA avec 2 composantes\n",
        "pca_wine = PCA(n_components=2)\n",
        "X_train_wine_pca = pca_wine.fit_transform(X_train_wine_scaled)\n",
        "X_test_wine_pca = pca_wine.transform(X_test_wine_scaled)\n",
        "\n",
        "# Modèle avec PCA\n",
        "logistic_model_wine_pca = LogisticRegression(max_iter=200, random_state=42)\n",
        "logistic_model_wine_pca.fit(X_train_wine_pca, y_train_wine)\n",
        "\n",
        "# Prédictions après PCA\n",
        "y_pred_wine_pca = logistic_model_wine_pca.predict(X_test_wine_pca)\n",
        "\n",
        "# Évaluation\n",
        "print(\"Rapport de classification (avec PCA) :\")\n",
        "print(classification_report(y_test_wine, y_pred_wine_pca, target_names=wine.target_names))\n"
      ],
      "metadata": {
        "colab": {
          "base_uri": "https://localhost:8080/"
        },
        "id": "ykoG4LVQxmiX",
        "outputId": "838c60f4-fd5c-40d8-cce2-d515a65c4e62"
      },
      "execution_count": 9,
      "outputs": [
        {
          "output_type": "stream",
          "name": "stdout",
          "text": [
            "Rapport de classification (avec PCA) :\n",
            "              precision    recall  f1-score   support\n",
            "\n",
            "     class_0       1.00      1.00      1.00        14\n",
            "     class_1       1.00      1.00      1.00        14\n",
            "     class_2       1.00      1.00      1.00         8\n",
            "\n",
            "    accuracy                           1.00        36\n",
            "   macro avg       1.00      1.00      1.00        36\n",
            "weighted avg       1.00      1.00      1.00        36\n",
            "\n"
          ]
        }
      ]
    }
  ]
}